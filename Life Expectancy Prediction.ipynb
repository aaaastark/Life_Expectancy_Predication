version https://git-lfs.github.com/spec/v1
oid sha256:1ca8e3ddb504415c76bc8a1bf6b7ce9a617591dfed29b793340a2c6d4471b6c9
size 1313649
